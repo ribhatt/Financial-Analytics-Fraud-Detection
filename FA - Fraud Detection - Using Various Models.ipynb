{
 "cells": [
  {
   "cell_type": "code",
   "execution_count": 1,
   "id": "a52d9843",
   "metadata": {},
   "outputs": [],
   "source": [
    "import numpy as np\n",
    "import pandas as pd"
   ]
  },
  {
   "cell_type": "code",
   "execution_count": 2,
   "id": "6bef2c5c",
   "metadata": {},
   "outputs": [],
   "source": [
    "# importing the data\n",
    "file = r'~/Downloads/creditcard_sampledata_2.csv'"
   ]
  },
  {
   "cell_type": "code",
   "execution_count": 3,
   "id": "634d0e22",
   "metadata": {},
   "outputs": [],
   "source": [
    "data = pd.read_csv(file)"
   ]
  },
  {
   "cell_type": "code",
   "execution_count": 4,
   "id": "3f92ce05",
   "metadata": {},
   "outputs": [
    {
     "data": {
      "text/html": [
       "<div>\n",
       "<style scoped>\n",
       "    .dataframe tbody tr th:only-of-type {\n",
       "        vertical-align: middle;\n",
       "    }\n",
       "\n",
       "    .dataframe tbody tr th {\n",
       "        vertical-align: top;\n",
       "    }\n",
       "\n",
       "    .dataframe thead th {\n",
       "        text-align: right;\n",
       "    }\n",
       "</style>\n",
       "<table border=\"1\" class=\"dataframe\">\n",
       "  <thead>\n",
       "    <tr style=\"text-align: right;\">\n",
       "      <th></th>\n",
       "      <th>Unnamed: 0</th>\n",
       "      <th>V1</th>\n",
       "      <th>V2</th>\n",
       "      <th>V3</th>\n",
       "      <th>V4</th>\n",
       "      <th>V5</th>\n",
       "      <th>V6</th>\n",
       "      <th>V7</th>\n",
       "      <th>V8</th>\n",
       "      <th>V9</th>\n",
       "      <th>...</th>\n",
       "      <th>V21</th>\n",
       "      <th>V22</th>\n",
       "      <th>V23</th>\n",
       "      <th>V24</th>\n",
       "      <th>V25</th>\n",
       "      <th>V26</th>\n",
       "      <th>V27</th>\n",
       "      <th>V28</th>\n",
       "      <th>Amount</th>\n",
       "      <th>Class</th>\n",
       "    </tr>\n",
       "  </thead>\n",
       "  <tbody>\n",
       "    <tr>\n",
       "      <th>0</th>\n",
       "      <td>221547</td>\n",
       "      <td>-1.191668</td>\n",
       "      <td>0.428409</td>\n",
       "      <td>1.640028</td>\n",
       "      <td>-1.848859</td>\n",
       "      <td>-0.870903</td>\n",
       "      <td>-0.204849</td>\n",
       "      <td>-0.385675</td>\n",
       "      <td>0.352793</td>\n",
       "      <td>-1.098301</td>\n",
       "      <td>...</td>\n",
       "      <td>0.507173</td>\n",
       "      <td>1.292565</td>\n",
       "      <td>-0.467752</td>\n",
       "      <td>1.244887</td>\n",
       "      <td>0.697707</td>\n",
       "      <td>0.059375</td>\n",
       "      <td>-0.319964</td>\n",
       "      <td>-0.017444</td>\n",
       "      <td>27.44</td>\n",
       "      <td>0</td>\n",
       "    </tr>\n",
       "    <tr>\n",
       "      <th>1</th>\n",
       "      <td>184524</td>\n",
       "      <td>1.966614</td>\n",
       "      <td>-0.450087</td>\n",
       "      <td>-1.228586</td>\n",
       "      <td>0.142873</td>\n",
       "      <td>-0.150627</td>\n",
       "      <td>-0.543590</td>\n",
       "      <td>-0.076217</td>\n",
       "      <td>-0.108390</td>\n",
       "      <td>0.973310</td>\n",
       "      <td>...</td>\n",
       "      <td>0.124055</td>\n",
       "      <td>0.564916</td>\n",
       "      <td>-0.039331</td>\n",
       "      <td>-0.283904</td>\n",
       "      <td>0.186400</td>\n",
       "      <td>0.192932</td>\n",
       "      <td>-0.039155</td>\n",
       "      <td>-0.071314</td>\n",
       "      <td>35.95</td>\n",
       "      <td>0</td>\n",
       "    </tr>\n",
       "    <tr>\n",
       "      <th>2</th>\n",
       "      <td>91201</td>\n",
       "      <td>1.528452</td>\n",
       "      <td>-1.296191</td>\n",
       "      <td>-0.890677</td>\n",
       "      <td>-2.504028</td>\n",
       "      <td>0.803202</td>\n",
       "      <td>3.350793</td>\n",
       "      <td>-1.633016</td>\n",
       "      <td>0.815350</td>\n",
       "      <td>-1.884692</td>\n",
       "      <td>...</td>\n",
       "      <td>-0.412088</td>\n",
       "      <td>-1.017485</td>\n",
       "      <td>0.129566</td>\n",
       "      <td>0.948048</td>\n",
       "      <td>0.287826</td>\n",
       "      <td>-0.396592</td>\n",
       "      <td>0.042997</td>\n",
       "      <td>0.025853</td>\n",
       "      <td>28.40</td>\n",
       "      <td>0</td>\n",
       "    </tr>\n",
       "    <tr>\n",
       "      <th>3</th>\n",
       "      <td>26115</td>\n",
       "      <td>-0.774614</td>\n",
       "      <td>1.100916</td>\n",
       "      <td>0.679080</td>\n",
       "      <td>1.034016</td>\n",
       "      <td>0.168633</td>\n",
       "      <td>0.874582</td>\n",
       "      <td>0.209454</td>\n",
       "      <td>0.770550</td>\n",
       "      <td>-0.558106</td>\n",
       "      <td>...</td>\n",
       "      <td>0.011158</td>\n",
       "      <td>0.146017</td>\n",
       "      <td>-0.130401</td>\n",
       "      <td>-0.848815</td>\n",
       "      <td>0.005698</td>\n",
       "      <td>-0.183295</td>\n",
       "      <td>0.282940</td>\n",
       "      <td>0.123856</td>\n",
       "      <td>43.20</td>\n",
       "      <td>0</td>\n",
       "    </tr>\n",
       "    <tr>\n",
       "      <th>4</th>\n",
       "      <td>201292</td>\n",
       "      <td>-1.075860</td>\n",
       "      <td>1.361160</td>\n",
       "      <td>1.496972</td>\n",
       "      <td>2.242604</td>\n",
       "      <td>1.314751</td>\n",
       "      <td>0.272787</td>\n",
       "      <td>1.005246</td>\n",
       "      <td>0.132932</td>\n",
       "      <td>-1.558317</td>\n",
       "      <td>...</td>\n",
       "      <td>0.254485</td>\n",
       "      <td>0.530692</td>\n",
       "      <td>-0.651119</td>\n",
       "      <td>0.626389</td>\n",
       "      <td>1.040212</td>\n",
       "      <td>0.249501</td>\n",
       "      <td>-0.146745</td>\n",
       "      <td>0.029714</td>\n",
       "      <td>10.59</td>\n",
       "      <td>0</td>\n",
       "    </tr>\n",
       "  </tbody>\n",
       "</table>\n",
       "<p>5 rows × 31 columns</p>\n",
       "</div>"
      ],
      "text/plain": [
       "   Unnamed: 0        V1        V2        V3        V4        V5        V6  \\\n",
       "0      221547 -1.191668  0.428409  1.640028 -1.848859 -0.870903 -0.204849   \n",
       "1      184524  1.966614 -0.450087 -1.228586  0.142873 -0.150627 -0.543590   \n",
       "2       91201  1.528452 -1.296191 -0.890677 -2.504028  0.803202  3.350793   \n",
       "3       26115 -0.774614  1.100916  0.679080  1.034016  0.168633  0.874582   \n",
       "4      201292 -1.075860  1.361160  1.496972  2.242604  1.314751  0.272787   \n",
       "\n",
       "         V7        V8        V9  ...       V21       V22       V23       V24  \\\n",
       "0 -0.385675  0.352793 -1.098301  ...  0.507173  1.292565 -0.467752  1.244887   \n",
       "1 -0.076217 -0.108390  0.973310  ...  0.124055  0.564916 -0.039331 -0.283904   \n",
       "2 -1.633016  0.815350 -1.884692  ... -0.412088 -1.017485  0.129566  0.948048   \n",
       "3  0.209454  0.770550 -0.558106  ...  0.011158  0.146017 -0.130401 -0.848815   \n",
       "4  1.005246  0.132932 -1.558317  ...  0.254485  0.530692 -0.651119  0.626389   \n",
       "\n",
       "        V25       V26       V27       V28  Amount  Class  \n",
       "0  0.697707  0.059375 -0.319964 -0.017444   27.44      0  \n",
       "1  0.186400  0.192932 -0.039155 -0.071314   35.95      0  \n",
       "2  0.287826 -0.396592  0.042997  0.025853   28.40      0  \n",
       "3  0.005698 -0.183295  0.282940  0.123856   43.20      0  \n",
       "4  1.040212  0.249501 -0.146745  0.029714   10.59      0  \n",
       "\n",
       "[5 rows x 31 columns]"
      ]
     },
     "execution_count": 4,
     "metadata": {},
     "output_type": "execute_result"
    }
   ],
   "source": [
    "data.head()"
   ]
  },
  {
   "cell_type": "code",
   "execution_count": 5,
   "id": "5b5a9d7c",
   "metadata": {},
   "outputs": [
    {
     "data": {
      "text/plain": [
       "(7300, 31)"
      ]
     },
     "execution_count": 5,
     "metadata": {},
     "output_type": "execute_result"
    }
   ],
   "source": [
    "data.shape"
   ]
  },
  {
   "cell_type": "code",
   "execution_count": 6,
   "id": "8e65142f",
   "metadata": {},
   "outputs": [
    {
     "data": {
      "text/plain": [
       "0    7000\n",
       "1     300\n",
       "Name: Class, dtype: int64"
      ]
     },
     "execution_count": 6,
     "metadata": {},
     "output_type": "execute_result"
    }
   ],
   "source": [
    "a = data['Class'].value_counts()\n",
    "a"
   ]
  },
  {
   "cell_type": "code",
   "execution_count": 7,
   "id": "0ff850aa",
   "metadata": {},
   "outputs": [],
   "source": [
    "import matplotlib.pyplot as plt\n",
    "from matplotlib.patches import Rectangle\n",
    "from pprint import pprint as pp\n",
    "import csv\n",
    "from pathlib import Path\n",
    "import seaborn as sns\n",
    "from itertools import product\n",
    "import string\n",
    "\n",
    "# import nltk\n",
    "# from nltk.corpus import stopwords\n",
    "# from nltk.stem.wordnet import WordNetLemmatizer\n",
    "\n",
    "from imblearn.over_sampling import SMOTE\n",
    "# from imblearn.over_sampling import BorderlineSMOTE\n",
    "# from imblearn.pipeline import Pipeline\n",
    "\n",
    "from sklearn.linear_model import LinearRegression, LogisticRegression\n",
    "from sklearn.model_selection import train_test_split, GridSearchCV\n",
    "from sklearn.tree import DecisionTreeClassifier\n",
    "from sklearn.metrics import r2_score, classification_report, confusion_matrix, accuracy_score, roc_auc_score, roc_curve, precision_recall_curve, average_precision_score\n",
    "from sklearn.metrics import homogeneity_score, silhouette_score\n",
    "from sklearn.ensemble import RandomForestClassifier, VotingClassifier\n",
    "from sklearn.preprocessing import MinMaxScaler\n",
    "from sklearn.cluster import MiniBatchKMeans, DBSCAN\n",
    "\n",
    "# pip install -U imbalanced-learn"
   ]
  },
  {
   "cell_type": "code",
   "execution_count": 8,
   "id": "1c779a4c",
   "metadata": {},
   "outputs": [],
   "source": [
    "from sklearn.metrics import mean_absolute_percentage_error"
   ]
  },
  {
   "cell_type": "code",
   "execution_count": 9,
   "id": "0003ce0c",
   "metadata": {},
   "outputs": [],
   "source": [
    "# Define the resampling method\n",
    "method = SMOTE()"
   ]
  },
  {
   "cell_type": "code",
   "execution_count": 10,
   "id": "10b30219",
   "metadata": {},
   "outputs": [],
   "source": [
    "# prep data function\n",
    "def prep_data(df:pd.DataFrame):\n",
    "    X = df.iloc[:,1:30].values\n",
    "    y = df.Class.values\n",
    "    return (X,y)\n",
    "    \n",
    "    "
   ]
  },
  {
   "cell_type": "code",
   "execution_count": 11,
   "id": "36061a50",
   "metadata": {},
   "outputs": [],
   "source": [
    "X,y = prep_data(data)"
   ]
  },
  {
   "cell_type": "code",
   "execution_count": 12,
   "id": "9ed2fa33",
   "metadata": {},
   "outputs": [
    {
     "data": {
      "text/plain": [
       "(7300, 29)"
      ]
     },
     "execution_count": 12,
     "metadata": {},
     "output_type": "execute_result"
    }
   ],
   "source": [
    "X.shape"
   ]
  },
  {
   "cell_type": "code",
   "execution_count": 13,
   "id": "d0da03cf",
   "metadata": {},
   "outputs": [],
   "source": [
    "# Create the resampled feature set\n",
    "X_resampled, y_resampled = method.fit_resample(X,y)"
   ]
  },
  {
   "cell_type": "code",
   "execution_count": 14,
   "id": "cc609100",
   "metadata": {},
   "outputs": [],
   "source": [
    "def plot_graph(x:np.ndarray, y:np.ndarray):\n",
    "    plt.scatter(x[y==0,0],x[y==0,2], label='Class 0')\n",
    "    plt.scatter(x[y==1,0],x[y==1,2], label='Class 1', c='r')\n",
    "    plt.legend()\n",
    "    return plt.show()"
   ]
  },
  {
   "cell_type": "code",
   "execution_count": 15,
   "id": "d69a6581",
   "metadata": {},
   "outputs": [
    {
     "data": {
      "image/png": "[encoded data removed]",
      "text/plain": [
       "<Figure size 432x288 with 1 Axes>"
      ]
     },
     "metadata": {
      "needs_background": "light"
     },
     "output_type": "display_data"
    }
   ],
   "source": [
    "plot_graph(X,y)"
   ]
  },
  {
   "cell_type": "code",
   "execution_count": 16,
   "id": "67f28394",
   "metadata": {},
   "outputs": [
    {
     "data": {
      "image/png": "[encoded data removed]",
      "text/plain": [
       "<Figure size 432x288 with 1 Axes>"
      ]
     },
     "metadata": {
      "needs_background": "light"
     },
     "output_type": "display_data"
    }
   ],
   "source": [
    "plot_graph(X_resampled,y_resampled)"
   ]
  },
  {
   "cell_type": "code",
   "execution_count": 17,
   "id": "5742b199",
   "metadata": {},
   "outputs": [
    {
     "data": {
      "text/plain": [
       "(7300, 29)"
      ]
     },
     "execution_count": 17,
     "metadata": {},
     "output_type": "execute_result"
    }
   ],
   "source": [
    "X.shape"
   ]
  },
  {
   "cell_type": "code",
   "execution_count": 18,
   "id": "c5dbdfb7",
   "metadata": {},
   "outputs": [
    {
     "data": {
      "text/plain": [
       "(7300,)"
      ]
     },
     "execution_count": 18,
     "metadata": {},
     "output_type": "execute_result"
    }
   ],
   "source": [
    "y.shape"
   ]
  },
  {
   "cell_type": "code",
   "execution_count": 19,
   "id": "34e606d6",
   "metadata": {},
   "outputs": [
    {
     "data": {
      "text/plain": [
       "(14000, 29)"
      ]
     },
     "execution_count": 19,
     "metadata": {},
     "output_type": "execute_result"
    }
   ],
   "source": [
    "X_resampled.shape"
   ]
  },
  {
   "cell_type": "code",
   "execution_count": 20,
   "id": "68934733",
   "metadata": {},
   "outputs": [
    {
     "data": {
      "text/plain": [
       "(14000,)"
      ]
     },
     "execution_count": 20,
     "metadata": {},
     "output_type": "execute_result"
    }
   ],
   "source": [
    "y_resampled.shape"
   ]
  },
  {
   "cell_type": "markdown",
   "id": "5259bb20",
   "metadata": {},
   "source": [
    "# Logistic Regression"
   ]
  },
  {
   "cell_type": "code",
   "execution_count": 53,
   "id": "59f904ac",
   "metadata": {},
   "outputs": [],
   "source": [
    "# Step 1 - modelling - split training and testing set\n",
    "# Step 1: split the features and labels into train and test data\n",
    "X_train, X_test, y_train, y_test = train_test_split(X, y, test_size=0.2)\n"
   ]
  },
  {
   "cell_type": "code",
   "execution_count": 54,
   "id": "435d7109",
   "metadata": {},
   "outputs": [
    {
     "data": {
      "text/plain": [
       "(5840, 29)"
      ]
     },
     "execution_count": 54,
     "metadata": {},
     "output_type": "execute_result"
    }
   ],
   "source": [
    "X_train.shape"
   ]
  },
  {
   "cell_type": "code",
   "execution_count": 55,
   "id": "c56c5b05",
   "metadata": {},
   "outputs": [],
   "source": [
    "# Step 2 - define the model to be used\n",
    "# Step 2: Define which model to use\n",
    "model = LogisticRegression()"
   ]
  },
  {
   "cell_type": "code",
   "execution_count": 56,
   "id": "083ecfac",
   "metadata": {},
   "outputs": [
    {
     "name": "stderr",
     "output_type": "stream",
     "text": [
      "/Users/urvivaidya/Library/Python/3.8/lib/python/site-packages/sklearn/linear_model/_logistic.py:814: ConvergenceWarning: lbfgs failed to converge (status=1):\n",
      "STOP: TOTAL NO. of ITERATIONS REACHED LIMIT.\n",
      "\n",
      "Increase the number of iterations (max_iter) or scale the data as shown in:\n",
      "    https://scikit-learn.org/stable/modules/preprocessing.html\n",
      "Please also refer to the documentation for alternative solver options:\n",
      "    https://scikit-learn.org/stable/modules/linear_model.html#logistic-regression\n",
      "  n_iter_i = _check_optimize_result(\n"
     ]
    },
    {
     "data": {
      "text/plain": [
       "LogisticRegression()"
      ]
     },
     "execution_count": 56,
     "metadata": {},
     "output_type": "execute_result"
    }
   ],
   "source": [
    "# Step 3: Fit the model to the training data\n",
    "model.fit(X_train, y_train)"
   ]
  },
  {
   "cell_type": "code",
   "execution_count": 57,
   "id": "fc824cfc",
   "metadata": {},
   "outputs": [],
   "source": [
    "# Step 4: Obtain model predictions from the test data\n",
    "y_predicted = model.predict(X_test)"
   ]
  },
  {
   "cell_type": "code",
   "execution_count": 58,
   "id": "8df939e4",
   "metadata": {},
   "outputs": [
    {
     "data": {
      "text/plain": [
       "array([0, 0, 0, ..., 0, 0, 0])"
      ]
     },
     "execution_count": 58,
     "metadata": {},
     "output_type": "execute_result"
    }
   ],
   "source": [
    "y_predicted"
   ]
  },
  {
   "cell_type": "code",
   "execution_count": 59,
   "id": "f9d15ab6",
   "metadata": {},
   "outputs": [
    {
     "name": "stdout",
     "output_type": "stream",
     "text": [
      "Classification report:\n",
      "               precision    recall  f1-score   support\n",
      "\n",
      "           0       0.99      1.00      1.00      1396\n",
      "           1       0.96      0.81      0.88        64\n",
      "\n",
      "    accuracy                           0.99      1460\n",
      "   macro avg       0.98      0.91      0.94      1460\n",
      "weighted avg       0.99      0.99      0.99      1460\n",
      "\n",
      "Confusion matrix:\n",
      " [[1394    2]\n",
      " [  12   52]]\n"
     ]
    }
   ],
   "source": [
    "# Step 5: Compare y_test to predictions and obtain performance metrics\n",
    "\n",
    "# Print the classifcation report and confusion matrix\n",
    "print('Classification report:\\n', classification_report(y_test, y_predicted))\n",
    "conf_mat = confusion_matrix(y_true=y_test, y_pred=y_predicted)\n",
    "print('Confusion matrix:\\n', conf_mat)"
   ]
  },
  {
   "cell_type": "code",
   "execution_count": 60,
   "id": "70ea8719",
   "metadata": {},
   "outputs": [
    {
     "data": {
      "text/plain": [
       "(1460,)"
      ]
     },
     "execution_count": 60,
     "metadata": {},
     "output_type": "execute_result"
    }
   ],
   "source": [
    "y_test.shape"
   ]
  },
  {
   "cell_type": "code",
   "execution_count": 61,
   "id": "9d22c87b",
   "metadata": {},
   "outputs": [
    {
     "name": "stdout",
     "output_type": "stream",
     "text": [
      "Accuracy Score:\n",
      "0.990\n"
     ]
    }
   ],
   "source": [
    "# checking accuracy\n",
    "print(f'Accuracy Score:\\n{accuracy_score(y_test, y_predicted):0.3f}')"
   ]
  },
  {
   "cell_type": "markdown",
   "id": "57e5c27f",
   "metadata": {},
   "source": [
    "# Random Forests"
   ]
  },
  {
   "cell_type": "code",
   "execution_count": 63,
   "id": "2ac77219",
   "metadata": {},
   "outputs": [],
   "source": [
    "# Step 1 - modelling - split training and testing set\n",
    "# Step 1: split the features and labels into train and test data\n",
    "X_train, X_test, y_train, y_test = train_test_split(X, y, test_size=0.2)\n",
    "\n"
   ]
  },
  {
   "cell_type": "code",
   "execution_count": 64,
   "id": "10eeb861",
   "metadata": {},
   "outputs": [],
   "source": [
    "# Step 2 - define the model to be used\n",
    "# Step 2: Define which model to use\n",
    "model = RandomForestClassifier()"
   ]
  },
  {
   "cell_type": "code",
   "execution_count": 65,
   "id": "a4935743",
   "metadata": {},
   "outputs": [
    {
     "data": {
      "text/plain": [
       "RandomForestClassifier()"
      ]
     },
     "execution_count": 65,
     "metadata": {},
     "output_type": "execute_result"
    }
   ],
   "source": [
    "# Step 3: Fit the model to the training data\n",
    "model.fit(X_train, y_train)"
   ]
  },
  {
   "cell_type": "code",
   "execution_count": 66,
   "id": "8eddf53a",
   "metadata": {},
   "outputs": [],
   "source": [
    "# Step 4: Obtain model predictions from the test data\n",
    "y_predicted = model.predict(X_test)"
   ]
  },
  {
   "cell_type": "code",
   "execution_count": 67,
   "id": "4c4f87a9",
   "metadata": {},
   "outputs": [
    {
     "name": "stdout",
     "output_type": "stream",
     "text": [
      "Classification report:\n",
      "               precision    recall  f1-score   support\n",
      "\n",
      "           0       0.99      1.00      1.00      1403\n",
      "           1       0.98      0.82      0.90        57\n",
      "\n",
      "    accuracy                           0.99      1460\n",
      "   macro avg       0.99      0.91      0.95      1460\n",
      "weighted avg       0.99      0.99      0.99      1460\n",
      "\n",
      "Confusion matrix:\n",
      " [[1402    1]\n",
      " [  10   47]]\n"
     ]
    }
   ],
   "source": [
    "# Step 5: Compare y_test to predictions and obtain performance metrics\n",
    "\n",
    "# Print the classifcation report and confusion matrix\n",
    "print('Classification report:\\n', classification_report(y_test, y_predicted))\n",
    "conf_mat = confusion_matrix(y_true=y_test, y_pred=y_predicted)\n",
    "print('Confusion matrix:\\n', conf_mat)"
   ]
  },
  {
   "cell_type": "code",
   "execution_count": 68,
   "id": "2df2bb04",
   "metadata": {},
   "outputs": [
    {
     "name": "stdout",
     "output_type": "stream",
     "text": [
      "Accuracy Score:\n",
      "0.992\n"
     ]
    }
   ],
   "source": [
    "# checking accuracy\n",
    "print(f'Accuracy Score:\\n{accuracy_score(y_test, y_predicted):0.3f}')"
   ]
  },
  {
   "cell_type": "markdown",
   "id": "0f627344",
   "metadata": {},
   "source": [
    "# Random Forests with n_estimator"
   ]
  },
  {
   "cell_type": "code",
   "execution_count": 39,
   "id": "faf1be4d",
   "metadata": {},
   "outputs": [],
   "source": [
    "# Step 2 - define the model to be used\n",
    "# Step 2: Define which model to use\n",
    "model = RandomForestClassifier(n_estimators = 10)"
   ]
  },
  {
   "cell_type": "code",
   "execution_count": 40,
   "id": "a36178eb",
   "metadata": {},
   "outputs": [
    {
     "data": {
      "text/plain": [
       "RandomForestClassifier(n_estimators=10)"
      ]
     },
     "execution_count": 40,
     "metadata": {},
     "output_type": "execute_result"
    }
   ],
   "source": [
    "# Step 3: Fit the model to the training data\n",
    "model.fit(X_train, y_train)"
   ]
  },
  {
   "cell_type": "code",
   "execution_count": 41,
   "id": "19ad4b60",
   "metadata": {},
   "outputs": [],
   "source": [
    "# Step 4: Obtain model predictions from the test data\n",
    "y_predicted = model.predict(X_test)"
   ]
  },
  {
   "cell_type": "code",
   "execution_count": 42,
   "id": "d8006e4e",
   "metadata": {},
   "outputs": [
    {
     "name": "stdout",
     "output_type": "stream",
     "text": [
      "Classification report:\n",
      "               precision    recall  f1-score   support\n",
      "\n",
      "           0       0.99      1.00      0.99      1400\n",
      "           1       0.92      0.80      0.86        60\n",
      "\n",
      "    accuracy                           0.99      1460\n",
      "   macro avg       0.96      0.90      0.93      1460\n",
      "weighted avg       0.99      0.99      0.99      1460\n",
      "\n",
      "Confusion matrix:\n",
      " [[1396    4]\n",
      " [  12   48]]\n"
     ]
    }
   ],
   "source": [
    "# Step 5: Compare y_test to predictions and obtain performance metrics\n",
    "\n",
    "# Print the classifcation report and confusion matrix\n",
    "print('Classification report:\\n', classification_report(y_test, y_predicted))\n",
    "conf_mat = confusion_matrix(y_true=y_test, y_pred=y_predicted)\n",
    "print('Confusion matrix:\\n', conf_mat)"
   ]
  },
  {
   "cell_type": "code",
   "execution_count": null,
   "id": "bc572ae1",
   "metadata": {},
   "outputs": [],
   "source": [
    "# checking accuracy\n",
    "print(f'Accuracy Score:\\n{accuracy_score(y_test, y_predicted):0.3f}')"
   ]
  },
  {
   "cell_type": "markdown",
   "id": "72633a9a",
   "metadata": {},
   "source": [
    "# Random Forests with random state"
   ]
  },
  {
   "cell_type": "code",
   "execution_count": 47,
   "id": "812d8ab5",
   "metadata": {},
   "outputs": [],
   "source": [
    "# Step 2 - define the model to be used\n",
    "# Step 2: Define which model to use\n",
    "model = RandomForestClassifier(n_estimators = 10, random_state=5)"
   ]
  },
  {
   "cell_type": "code",
   "execution_count": 48,
   "id": "1fe7b720",
   "metadata": {},
   "outputs": [
    {
     "data": {
      "text/plain": [
       "RandomForestClassifier(n_estimators=10, random_state=5)"
      ]
     },
     "execution_count": 48,
     "metadata": {},
     "output_type": "execute_result"
    }
   ],
   "source": [
    "# Step 3: Fit the model to the training data\n",
    "model.fit(X_train, y_train)"
   ]
  },
  {
   "cell_type": "code",
   "execution_count": 49,
   "id": "051df1a4",
   "metadata": {},
   "outputs": [],
   "source": [
    "# Step 4: Obtain model predictions from the test data\n",
    "y_predicted = model.predict(X_test)"
   ]
  },
  {
   "cell_type": "code",
   "execution_count": 50,
   "id": "02cbeac2",
   "metadata": {},
   "outputs": [
    {
     "name": "stdout",
     "output_type": "stream",
     "text": [
      "Classification report:\n",
      "               precision    recall  f1-score   support\n",
      "\n",
      "           0       0.99      1.00      0.99      1400\n",
      "           1       0.92      0.78      0.85        60\n",
      "\n",
      "    accuracy                           0.99      1460\n",
      "   macro avg       0.96      0.89      0.92      1460\n",
      "weighted avg       0.99      0.99      0.99      1460\n",
      "\n",
      "Confusion matrix:\n",
      " [[1396    4]\n",
      " [  13   47]]\n"
     ]
    }
   ],
   "source": [
    "# Step 5: Compare y_test to predictions and obtain performance metrics\n",
    "\n",
    "# Print the classifcation report and confusion matrix\n",
    "print('Classification report:\\n', classification_report(y_test, y_predicted))\n",
    "conf_mat = confusion_matrix(y_true=y_test, y_pred=y_predicted)\n",
    "print('Confusion matrix:\\n', conf_mat)"
   ]
  },
  {
   "cell_type": "code",
   "execution_count": 52,
   "id": "d54f0d45",
   "metadata": {
    "scrolled": true
   },
   "outputs": [
    {
     "name": "stdout",
     "output_type": "stream",
     "text": [
      "Accuracy Score:\n",
      "0.988\n"
     ]
    }
   ],
   "source": [
    "# checking accuracy\n",
    "print(f'Accuracy Score:\\n{accuracy_score(y_test, y_predicted):0.3f}')"
   ]
  },
  {
   "cell_type": "markdown",
   "id": "929e464b",
   "metadata": {},
   "source": [
    "# Funtion to use multiple models"
   ]
  },
  {
   "cell_type": "code",
   "execution_count": 72,
   "id": "0837ca80",
   "metadata": {},
   "outputs": [],
   "source": [
    "def getModelResults(X, y, model, ts):\n",
    "    \n",
    "    # Step 1: splitting the set\n",
    "    X_train, X_test, y_train, y_test = train_test_split(X, y, test_size=ts)\n",
    "    \n",
    "    # fitting the model\n",
    "    model.fit(X_train, y_train)\n",
    "    \n",
    "    # Step 4: Obtain model predictions from the test data\n",
    "    y_predicted = model.predict(X_test)\n",
    "    \n",
    "    # Step 5: Compare y_test to predictions and obtain performance metrics\n",
    "\n",
    "    # Print the classifcation report and confusion matrix\n",
    "    print('Classification report:\\n', classification_report(y_test, y_predicted))\n",
    "    conf_mat = confusion_matrix(y_true=y_test, y_pred=y_predicted)\n",
    "    print('Confusion matrix:\\n', conf_mat)\n",
    "    "
   ]
  },
  {
   "cell_type": "code",
   "execution_count": 83,
   "id": "3503d2d2",
   "metadata": {},
   "outputs": [
    {
     "name": "stdout",
     "output_type": "stream",
     "text": [
      "Classification report:\n",
      "               precision    recall  f1-score   support\n",
      "\n",
      "           0       1.00      1.00      1.00      1405\n",
      "           1       1.00      0.87      0.93        55\n",
      "\n",
      "    accuracy                           1.00      1460\n",
      "   macro avg       1.00      0.94      0.96      1460\n",
      "weighted avg       1.00      1.00      1.00      1460\n",
      "\n",
      "Confusion matrix:\n",
      " [[1405    0]\n",
      " [   7   48]]\n"
     ]
    }
   ],
   "source": [
    "# calling the function - step 2 is the input\n",
    "m = RandomForestClassifier()\n",
    "getModelResults(X,y,m,0.2)\n"
   ]
  },
  {
   "cell_type": "code",
   "execution_count": 76,
   "id": "f269dde9",
   "metadata": {},
   "outputs": [
    {
     "name": "stdout",
     "output_type": "stream",
     "text": [
      "Classification report:\n",
      "               precision    recall  f1-score   support\n",
      "\n",
      "           0       0.99      1.00      1.00      2107\n",
      "           1       0.96      0.84      0.90        83\n",
      "\n",
      "    accuracy                           0.99      2190\n",
      "   macro avg       0.98      0.92      0.95      2190\n",
      "weighted avg       0.99      0.99      0.99      2190\n",
      "\n",
      "Confusion matrix:\n",
      " [[2104    3]\n",
      " [  13   70]]\n"
     ]
    }
   ],
   "source": [
    "# calling the function - step 2 is the input\n",
    "m = RandomForestClassifier()\n",
    "getModelResults(X,y,m,0.3)\n"
   ]
  },
  {
   "cell_type": "code",
   "execution_count": 75,
   "id": "5f9e3065",
   "metadata": {},
   "outputs": [
    {
     "name": "stdout",
     "output_type": "stream",
     "text": [
      "Classification report:\n",
      "               precision    recall  f1-score   support\n",
      "\n",
      "           0       0.99      1.00      0.99      1394\n",
      "           1       0.95      0.83      0.89        66\n",
      "\n",
      "    accuracy                           0.99      1460\n",
      "   macro avg       0.97      0.92      0.94      1460\n",
      "weighted avg       0.99      0.99      0.99      1460\n",
      "\n",
      "Confusion matrix:\n",
      " [[1391    3]\n",
      " [  11   55]]\n"
     ]
    }
   ],
   "source": [
    "# Change the model options\n",
    "m = RandomForestClassifier(bootstrap=True,\n",
    "class_weight={0:1, 1:12},\n",
    "criterion='entropy',\n",
    "\n",
    "max_depth=10,\n",
    "\n",
    "min_samples_leaf=10,\n",
    "\n",
    "n_estimators=20,\n",
    "n_jobs=-1,\n",
    "random_state=5)\n",
    "\n",
    "# calling the function\n",
    "getModelResults(X,y,m,0.2)"
   ]
  },
  {
   "cell_type": "code",
   "execution_count": 77,
   "id": "cc8d8420",
   "metadata": {},
   "outputs": [
    {
     "name": "stdout",
     "output_type": "stream",
     "text": [
      "Classification report:\n",
      "               precision    recall  f1-score   support\n",
      "\n",
      "           0       0.99      1.00      0.99      2102\n",
      "           1       0.89      0.83      0.86        88\n",
      "\n",
      "    accuracy                           0.99      2190\n",
      "   macro avg       0.94      0.91      0.93      2190\n",
      "weighted avg       0.99      0.99      0.99      2190\n",
      "\n",
      "Confusion matrix:\n",
      " [[2093    9]\n",
      " [  15   73]]\n"
     ]
    }
   ],
   "source": [
    "# Change the model options\n",
    "m = RandomForestClassifier(bootstrap=True,\n",
    "class_weight={0:1, 1:12},\n",
    "criterion='entropy',\n",
    "\n",
    "max_depth=10,\n",
    "\n",
    "min_samples_leaf=10,\n",
    "\n",
    "n_estimators=20,\n",
    "n_jobs=-1,\n",
    "random_state=5)\n",
    "\n",
    "# calling the function\n",
    "getModelResults(X,y,m,0.3)"
   ]
  },
  {
   "cell_type": "code",
   "execution_count": 78,
   "id": "84e71735",
   "metadata": {},
   "outputs": [
    {
     "name": "stdout",
     "output_type": "stream",
     "text": [
      "Classification report:\n",
      "               precision    recall  f1-score   support\n",
      "\n",
      "           0       0.99      0.99      0.99      1386\n",
      "           1       0.88      0.82      0.85        74\n",
      "\n",
      "    accuracy                           0.99      1460\n",
      "   macro avg       0.94      0.91      0.92      1460\n",
      "weighted avg       0.99      0.99      0.99      1460\n",
      "\n",
      "Confusion matrix:\n",
      " [[1378    8]\n",
      " [  13   61]]\n"
     ]
    }
   ],
   "source": [
    "# calling the function - step 2 is the input\n",
    "m = DecisionTreeClassifier()\n",
    "getModelResults(X,y,m,0.2)"
   ]
  },
  {
   "cell_type": "code",
   "execution_count": 79,
   "id": "7a3af906",
   "metadata": {},
   "outputs": [
    {
     "name": "stdout",
     "output_type": "stream",
     "text": [
      "Classification report:\n",
      "               precision    recall  f1-score   support\n",
      "\n",
      "           0       0.99      0.99      0.99      2089\n",
      "           1       0.85      0.83      0.84       101\n",
      "\n",
      "    accuracy                           0.99      2190\n",
      "   macro avg       0.92      0.91      0.92      2190\n",
      "weighted avg       0.99      0.99      0.99      2190\n",
      "\n",
      "Confusion matrix:\n",
      " [[2074   15]\n",
      " [  17   84]]\n"
     ]
    }
   ],
   "source": [
    "# calling the function - step 2 is the input\n",
    "m = DecisionTreeClassifier()\n",
    "getModelResults(X,y,m,0.3)"
   ]
  },
  {
   "cell_type": "code",
   "execution_count": 85,
   "id": "55667621",
   "metadata": {},
   "outputs": [
    {
     "name": "stdout",
     "output_type": "stream",
     "text": [
      "Classification report:\n",
      "               precision    recall  f1-score   support\n",
      "\n",
      "           0       0.99      1.00      1.00      1404\n",
      "           1       0.98      0.80      0.88        56\n",
      "\n",
      "    accuracy                           0.99      1460\n",
      "   macro avg       0.99      0.90      0.94      1460\n",
      "weighted avg       0.99      0.99      0.99      1460\n",
      "\n",
      "Confusion matrix:\n",
      " [[1403    1]\n",
      " [  11   45]]\n"
     ]
    },
    {
     "name": "stderr",
     "output_type": "stream",
     "text": [
      "/Users/urvivaidya/Library/Python/3.8/lib/python/site-packages/sklearn/linear_model/_logistic.py:814: ConvergenceWarning: lbfgs failed to converge (status=1):\n",
      "STOP: TOTAL NO. of ITERATIONS REACHED LIMIT.\n",
      "\n",
      "Increase the number of iterations (max_iter) or scale the data as shown in:\n",
      "    https://scikit-learn.org/stable/modules/preprocessing.html\n",
      "Please also refer to the documentation for alternative solver options:\n",
      "    https://scikit-learn.org/stable/modules/linear_model.html#logistic-regression\n",
      "  n_iter_i = _check_optimize_result(\n"
     ]
    }
   ],
   "source": [
    "m = LogisticRegression(max_iter = 100)\n",
    "getModelResults(X,y,m,0.2)"
   ]
  },
  {
   "cell_type": "code",
   "execution_count": null,
   "id": "bc461b6f",
   "metadata": {},
   "outputs": [],
   "source": [
    "    # We split our testing and training sets\n",
    "    X_train, X_test, y_train, y_test = train_test_split(X, y, test_size=0.2)\n",
    "    \n",
    "    # We use the Randon Forest Classifier - optionally with variables\n",
    "    model = RandomForestClassifier()\n",
    "    \n",
    "    # We fit the model on our data\n",
    "    model.fit(X_train, y_train)\n",
    "    \n",
    "    # We get model predictions from the test data\n",
    "    y_predicted = model.predict(X_test)"
   ]
  },
  {
   "cell_type": "code",
   "execution_count": null,
   "id": "0225ca2c",
   "metadata": {},
   "outputs": [],
   "source": []
  },
  {
   "cell_type": "code",
   "execution_count": null,
   "id": "e8cc42b5",
   "metadata": {},
   "outputs": [],
   "source": []
  }
 ],
 "metadata": {
  "kernelspec": {
   "display_name": "Python 3 (ipykernel)",
   "language": "python",
   "name": "python3"
  },
  "language_info": {
   "codemirror_mode": {
    "name": "ipython",
    "version": 3
   },
   "file_extension": ".py",
   "mimetype": "text/x-python",
   "name": "python",
   "nbconvert_exporter": "python",
   "pygments_lexer": "ipython3",
   "version": "3.8.9"
  }
 },
 "nbformat": 4,
 "nbformat_minor": 5
}
